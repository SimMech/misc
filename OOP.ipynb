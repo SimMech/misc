{
 "cells": [
  {
   "cell_type": "markdown",
   "metadata": {},
   "source": [
    "####  <font color=magenta> https://www.youtube.com/watch?v=wYYzteRKU7U </font>"
   ]
  },
  {
   "cell_type": "code",
   "execution_count": 7,
   "metadata": {},
   "outputs": [],
   "source": [
    "class car:\n",
    "    \n",
    "    def specs(self):\n",
    "        print('4WD,10mph')\n",
    "Accord=car()\n",
    "Camry=car()"
   ]
  },
  {
   "cell_type": "code",
   "execution_count": 8,
   "metadata": {},
   "outputs": [
    {
     "name": "stdout",
     "output_type": "stream",
     "text": [
      "4WD,10mph\n"
     ]
    }
   ],
   "source": [
    "car.specs(Accord)       # not used frequently"
   ]
  },
  {
   "cell_type": "code",
   "execution_count": 10,
   "metadata": {},
   "outputs": [
    {
     "name": "stdout",
     "output_type": "stream",
     "text": [
      "4WD,10mph\n"
     ]
    }
   ],
   "source": [
    "Accord.specs()          # used frequently"
   ]
  },
  {
   "cell_type": "code",
   "execution_count": null,
   "metadata": {
    "scrolled": false
   },
   "outputs": [],
   "source": []
  },
  {
   "cell_type": "code",
   "execution_count": 4,
   "metadata": {},
   "outputs": [
    {
     "name": "stdout",
     "output_type": "stream",
     "text": [
      "specs:  CVT 10\n",
      "specs:  Automatic 11\n"
     ]
    }
   ],
   "source": [
    "class Car:\n",
    "    \n",
    "    def __init__(self,transmission,performance):\n",
    "        self.transmission=transmission\n",
    "        self.performance=performance\n",
    "    \n",
    "    def specs(self):\n",
    "        print('specs: ', self.transmission,self.performance)\n",
    "        \n",
    "        \n",
    "Accord=Car('CVT',10)\n",
    "Camry=Car('Automatic',11)\n",
    "\n",
    "Accord.specs()\n",
    "Camry.specs()"
   ]
  },
  {
   "cell_type": "code",
   "execution_count": null,
   "metadata": {},
   "outputs": [],
   "source": []
  },
  {
   "cell_type": "code",
   "execution_count": null,
   "metadata": {},
   "outputs": [],
   "source": [
    "'''\n",
    "This program uses a Car Class to keep track of a list.\n",
    "The Car class defines a car in terms of transmission, performance and power attributes.\n",
    "'''"
   ]
  },
  {
   "cell_type": "code",
   "execution_count": 3,
   "metadata": {},
   "outputs": [
    {
     "name": "stdout",
     "output_type": "stream",
     "text": [
      "\n",
      "car\n",
      "1) new car   2) lookup\n",
      "3) show all  4) end\n",
      "> 1\n",
      "Enter car make:1\n",
      "Enter car transmission:1\n",
      "Enter car performance:1\n",
      "Enter car power:1\n",
      "\n",
      "car\n",
      "1) new car   2) lookup\n",
      "3) show all  4) end\n",
      "> 1\n",
      "Enter car make:2\n",
      "Enter car transmission:2\n",
      "Enter car performance:2\n",
      "Enter car power:2\n",
      "\n",
      "car\n",
      "1) new car   2) lookup\n",
      "3) show all  4) end\n",
      "> 1\n",
      "Enter car make:3\n",
      "Enter car transmission:3\n",
      "Enter car performance:3\n",
      "Enter car power:3\n",
      "\n",
      "car\n",
      "1) new car   2) lookup\n",
      "3) show all  4) end\n",
      "> 3\n",
      "Showing all cars:\n",
      "[make=1 transmission=1 performance=1 power=1]\n",
      "[make=2 transmission=2 performance=2 power=2]\n",
      "[make=3 transmission=3 performance=3 power=3]\n",
      "\n",
      "car\n",
      "1) new car   2) lookup\n",
      "3) show all  4) end\n",
      "> 2\n",
      "Enter make to lookup:2\n"
     ]
    },
    {
     "ename": "TypeError",
     "evalue": "getMake() missing 1 required positional argument: 'self'",
     "output_type": "error",
     "traceback": [
      "\u001b[1;31m---------------------------------------------------------------------------\u001b[0m",
      "\u001b[1;31mTypeError\u001b[0m                                 Traceback (most recent call last)",
      "\u001b[1;32m<ipython-input-3-285c6ab604f4>\u001b[0m in \u001b[0;36m<module>\u001b[1;34m()\u001b[0m\n\u001b[0;32m     77\u001b[0m \u001b[1;33m\u001b[0m\u001b[0m\n\u001b[0;32m     78\u001b[0m \u001b[1;32mif\u001b[0m \u001b[0m__name__\u001b[0m\u001b[1;33m==\u001b[0m\u001b[1;34m'__main__'\u001b[0m\u001b[1;33m:\u001b[0m\u001b[1;33m\u001b[0m\u001b[0m\n\u001b[1;32m---> 79\u001b[1;33m     \u001b[0mmain\u001b[0m\u001b[1;33m(\u001b[0m\u001b[1;33m)\u001b[0m\u001b[1;33m\u001b[0m\u001b[0m\n\u001b[0m",
      "\u001b[1;32m<ipython-input-3-285c6ab604f4>\u001b[0m in \u001b[0;36mmain\u001b[1;34m()\u001b[0m\n\u001b[0;32m     67\u001b[0m             \u001b[0mcars\u001b[0m\u001b[1;33m.\u001b[0m\u001b[0mappend\u001b[0m\u001b[1;33m(\u001b[0m\u001b[0menter_a_car\u001b[0m\u001b[1;33m(\u001b[0m\u001b[1;33m)\u001b[0m\u001b[1;33m)\u001b[0m\u001b[1;33m\u001b[0m\u001b[0m\n\u001b[0;32m     68\u001b[0m         \u001b[1;32melif\u001b[0m \u001b[0moption\u001b[0m\u001b[1;33m==\u001b[0m\u001b[1;34m'2'\u001b[0m\u001b[1;33m:\u001b[0m\u001b[1;33m\u001b[0m\u001b[0m\n\u001b[1;32m---> 69\u001b[1;33m             \u001b[0mlookup_a_make\u001b[0m\u001b[1;33m(\u001b[0m\u001b[0mcars\u001b[0m\u001b[1;33m)\u001b[0m\u001b[1;33m\u001b[0m\u001b[0m\n\u001b[0m\u001b[0;32m     70\u001b[0m         \u001b[1;32melif\u001b[0m \u001b[0moption\u001b[0m\u001b[1;33m==\u001b[0m\u001b[1;34m'3'\u001b[0m\u001b[1;33m:\u001b[0m\u001b[1;33m\u001b[0m\u001b[0m\n\u001b[0;32m     71\u001b[0m             \u001b[0mshow_all_cars\u001b[0m\u001b[1;33m(\u001b[0m\u001b[0mcars\u001b[0m\u001b[1;33m)\u001b[0m\u001b[1;33m\u001b[0m\u001b[0m\n",
      "\u001b[1;32m<ipython-input-3-285c6ab604f4>\u001b[0m in \u001b[0;36mlookup_a_make\u001b[1;34m(cars)\u001b[0m\n\u001b[0;32m     44\u001b[0m         \u001b[0mmake\u001b[0m\u001b[1;33m=\u001b[0m\u001b[0minput\u001b[0m\u001b[1;33m(\u001b[0m\u001b[1;34m'Enter make to lookup:'\u001b[0m\u001b[1;33m)\u001b[0m\u001b[1;33m\u001b[0m\u001b[0m\n\u001b[0;32m     45\u001b[0m         \u001b[1;32mfor\u001b[0m \u001b[0mmake\u001b[0m \u001b[1;32min\u001b[0m \u001b[0mcars\u001b[0m\u001b[1;33m:\u001b[0m\u001b[1;33m\u001b[0m\u001b[0m\n\u001b[1;32m---> 46\u001b[1;33m             \u001b[1;32mif\u001b[0m \u001b[0mmake\u001b[0m \u001b[1;32min\u001b[0m \u001b[0mCar\u001b[0m\u001b[1;33m.\u001b[0m\u001b[0mgetMake\u001b[0m\u001b[1;33m(\u001b[0m\u001b[1;33m)\u001b[0m\u001b[1;33m:\u001b[0m\u001b[1;33m\u001b[0m\u001b[0m\n\u001b[0m\u001b[0;32m     47\u001b[0m                 \u001b[0mprint\u001b[0m\u001b[1;33m(\u001b[0m\u001b[0mmake\u001b[0m\u001b[1;33m)\u001b[0m\u001b[1;33m\u001b[0m\u001b[0m\n\u001b[0;32m     48\u001b[0m                 \u001b[0mfound\u001b[0m\u001b[1;33m=\u001b[0m\u001b[1;32mTrue\u001b[0m\u001b[1;33m\u001b[0m\u001b[0m\n",
      "\u001b[1;31mTypeError\u001b[0m: getMake() missing 1 required positional argument: 'self'"
     ]
    }
   ],
   "source": [
    "class Car(object):     ## adding object is equivalent to super object\n",
    "                        ## that mekes it a parent. There would be children who inherites \n",
    "                        ## from properties from parent.\n",
    "    #constructor\n",
    "    def __init__(self,make,transmission,performance,power):       ####\n",
    "        self.make=make                                              ## Properties\n",
    "        self.transmission=transmission                              ## Things that every car has \n",
    "        self.performance=performance                                ##\n",
    "        self.power=power                                          ####\n",
    "    \n",
    "    #Accesser Methods (getters)                                   ####\n",
    "    def getMake(self):                                              ##\n",
    "        return self.make                                            ##\n",
    "    def getTransmission(self):                                      ##\n",
    "        return self.transmission                                    ##\n",
    "    def getPerformance(self):                                       ##\n",
    "        return self.performance                                     ##\n",
    "    def getPower(self):                                             ##\n",
    "        return self.power                                           ##\n",
    "                                                                    ##\n",
    "    #Mutator Methods (setters)                                      ##\n",
    "    def setMake(self,newMake):                                      ## Methods\n",
    "        self.Make=newMake                                           ## Things that every car does\n",
    "    def setTransmission(self,newTransmission):                      ##\n",
    "        self.transmission=newTransmission                           ##\n",
    "    def setPerformance(self,newPerformance):                        ##\n",
    "        self.performance=newPerformance                             ##\n",
    "    def setPower(self,newPower):                                    ##\n",
    "        self.power=newPower                                         ##\n",
    "                                                                    ##\n",
    "    def __str__(self):                                              ##\n",
    "        return '[make=' + self.make +\\                              ##\n",
    "                ' transmission=' + self.transmission + \\            ##\n",
    "                ' performance=' + self.performance + \\              ##\n",
    "                ' power=' + self.power + \\                          ##\n",
    "                ']'                                               ####\n",
    "    \n",
    "#############################################################\n",
    "def enter_a_car():\n",
    "        make=input('Enter car make:')\n",
    "        transmission=input('Enter car transmission:')\n",
    "        performance=input('Enter car performance:')\n",
    "        power=input('Enter car power:')\n",
    "        return Car(make, transmission, performance, power)\n",
    "\n",
    "def lookup_a_make(cars):\n",
    "        found=False\n",
    "        make=input('Enter make to lookup:')\n",
    "        for make in cars:\n",
    "            if make in Car.getMake():\n",
    "                print(make)\n",
    "                found=True\n",
    "            if not found:\n",
    "                print('No make match that term')\n",
    "                \n",
    "def show_all_cars(cars):\n",
    "    print('Showing all cars:')\n",
    "    for car in cars:\n",
    "        print(car)\n",
    "        \n",
    "#########################################################################\n",
    "def main():\n",
    "    cars=[]\n",
    "    running=True\n",
    "    while running:\n",
    "        print('\\ncar')\n",
    "        print('1) new car   2) lookup')\n",
    "        print('3) show all  4) end')    \n",
    "        option = input('> ')    \n",
    "        if option=='1':\n",
    "            cars.append(enter_a_car())\n",
    "        elif option=='2':\n",
    "            lookup_a_make(cars)\n",
    "        elif option=='3':\n",
    "            show_all_cars(cars)\n",
    "        elif option=='4': \n",
    "            running=False\n",
    "        else:\n",
    "            print('Unrecognized input. Please try again.')\n",
    "    print('Program ending.')\n",
    "    \n",
    "if __name__=='__main__':\n",
    "    main()"
   ]
  },
  {
   "cell_type": "code",
   "execution_count": null,
   "metadata": {},
   "outputs": [],
   "source": []
  }
 ],
 "metadata": {
  "kernelspec": {
   "display_name": "Python 3",
   "language": "python",
   "name": "python3"
  },
  "language_info": {
   "codemirror_mode": {
    "name": "ipython",
    "version": 3
   },
   "file_extension": ".py",
   "mimetype": "text/x-python",
   "name": "python",
   "nbconvert_exporter": "python",
   "pygments_lexer": "ipython3",
   "version": "3.7.0"
  }
 },
 "nbformat": 4,
 "nbformat_minor": 2
}
