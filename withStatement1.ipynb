{
 "cells": [
  {
   "cell_type": "code",
   "execution_count": 31,
   "metadata": {},
   "outputs": [
    {
     "name": "stdout",
     "output_type": "stream",
     "text": [
      "C:/Users/fshok/Documents/temp/Sell.txt\n",
      "r\n",
      "Done\n"
     ]
    }
   ],
   "source": [
    "with open('C:/Users/fshok/Documents/temp/Sell.txt','r') as f3:\n",
    "     print(f3.name)\n",
    "     print(f3.mode)\n",
    "print('Done')"
   ]
  },
  {
   "cell_type": "code",
   "execution_count": 24,
   "metadata": {},
   "outputs": [
    {
     "name": "stdout",
     "output_type": "stream",
     "text": [
      "C:/Users/fshok/Documents/temp/Sell.txt\n"
     ]
    }
   ],
   "source": [
    "print(f3.name)"
   ]
  },
  {
   "cell_type": "code",
   "execution_count": 25,
   "metadata": {},
   "outputs": [
    {
     "name": "stdout",
     "output_type": "stream",
     "text": [
      "r\n"
     ]
    }
   ],
   "source": [
    "print(f3.mode)"
   ]
  },
  {
   "cell_type": "code",
   "execution_count": 26,
   "metadata": {},
   "outputs": [
    {
     "name": "stdout",
     "output_type": "stream",
     "text": [
      "The agreement for selling the house per two days discussion on 18 and 19th of October 2018 proposed by Fardin Shokoohi\n",
      "\n",
      "\n",
      "\n",
      "1. Date October 20th, 2018\n",
      "\n",
      "2. This is an agreement between Farahnaz Hojjati and Fardin Shokoohi to sell their house.\n",
      "\n",
      "3. The house mentioned in this document is addressed to 11 Busch Ave., Markham ON, L6C 0W4.\n",
      "\n",
      "4. Both understand that they are not capable to cover the mortgage, property tax, family and business tax, the usual life \n",
      "\n",
      "expenses including utilities and whatever is recorded in the their credit cards.\n",
      "\n",
      "5. The business tax addressed in line 3 is for Sim Mechanica Inc.\n",
      "\n",
      "6. The joint credits addressed in line 3 includes the following items:\n",
      "\n",
      "6.1 RBC Avion credit associated with card number 4514 0118 1242 4081 with balance $13151.09.\n",
      "\n",
      "6.2 RBC Rewards+ credit associated with card number 4510 1405 0451 1642 with balance $109.29.\n",
      "\n",
      "6.3 RBC Avion credit associated with card number 4516 0760 0297 1983, Sim Mechanica Inc. with balance $3,158.63.\n",
      "\n",
      "6.3 RBC Sim Mechanica Inc line of credit with balance $13940.47.\n",
      "\n",
      "6.3 CapitalOne credit card associated with card number 5160 7598 0195 with balance $2185.44.\n",
      "\n",
      "6.4 Walmart credit card: the card number is not delivered by Farahnaz which is the owner of account with balance $183.\n",
      "\n",
      "7. Farahnaz claims she may or may not be able to get job and to payoff the monthly mortgage within two month from now \n",
      "\n",
      "meaning that we maybe able to keep the house. \n",
      "\n",
      "7.1 Fardin agrees with line 7. We will not sell the house up to January 4th 2019 which is the monthly mortgage due date.\n",
      "\n",
      "7.2 In order to be on safe side and prevent RBC intervention and selling the house with a lower price Fardin proposes to \n",
      "\n",
      "get prepare for finding the real state agent. That means we both will participate in marketing the house from today.\n",
      "\n",
      "8. Parnian and Abtin are being informed about the new situation and by receiving this email should try for (a more) \n",
      "\n",
      "independent life.\n",
      "\n",
      "\n",
      "\n",
      "Fardin Shokoohi\n",
      "\n",
      "\n",
      "\n"
     ]
    }
   ],
   "source": [
    "for line in f3:\n",
    "    print(line)"
   ]
  },
  {
   "cell_type": "code",
   "execution_count": 27,
   "metadata": {},
   "outputs": [],
   "source": [
    "f3.close()"
   ]
  },
  {
   "cell_type": "code",
   "execution_count": null,
   "metadata": {},
   "outputs": [],
   "source": []
  }
 ],
 "metadata": {
  "kernelspec": {
   "display_name": "Python 3",
   "language": "python",
   "name": "python3"
  },
  "language_info": {
   "codemirror_mode": {
    "name": "ipython",
    "version": 3
   },
   "file_extension": ".py",
   "mimetype": "text/x-python",
   "name": "python",
   "nbconvert_exporter": "python",
   "pygments_lexer": "ipython3",
   "version": "3.7.0"
  }
 },
 "nbformat": 4,
 "nbformat_minor": 2
}
