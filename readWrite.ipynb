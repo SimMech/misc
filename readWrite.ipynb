{
 "cells": [
  {
   "cell_type": "markdown",
   "metadata": {},
   "source": [
    "#### <font color=red> Read / Write text file </font>\n",
    "##### The following code reads each line of cheat sheet and redu\n",
    "##### http://www.newthinktank.com/2014/08/mysql-video-tutorial/"
   ]
  },
  {
   "cell_type": "code",
   "execution_count": 15,
   "metadata": {},
   "outputs": [],
   "source": [
    "sql =open('C:/Users/fshok/Documents/SQL/CommandLineTutorials.txt', 'r')\n",
    "nsql=open('C:/Users/fshok/Documents/SQL/CommandLineTutorialsNew.txt', 'w')\n",
    "\n",
    "i=1\n",
    "for line in sql:\n",
    "    if line==str(i).zfill(3)+'\\n': \n",
    "        i+=1\n",
    "        continue\n",
    "    elif line=='\\n':\n",
    "        continue\n",
    "    nsql.write(line)\n",
    "\n",
    "sql.close()\n",
    "nsql.close()"
   ]
  },
  {
   "cell_type": "code",
   "execution_count": null,
   "metadata": {},
   "outputs": [],
   "source": []
  }
 ],
 "metadata": {
  "kernelspec": {
   "display_name": "Python 3",
   "language": "python",
   "name": "python3"
  },
  "language_info": {
   "codemirror_mode": {
    "name": "ipython",
    "version": 3
   },
   "file_extension": ".py",
   "mimetype": "text/x-python",
   "name": "python",
   "nbconvert_exporter": "python",
   "pygments_lexer": "ipython3",
   "version": "3.7.0"
  }
 },
 "nbformat": 4,
 "nbformat_minor": 2
}
